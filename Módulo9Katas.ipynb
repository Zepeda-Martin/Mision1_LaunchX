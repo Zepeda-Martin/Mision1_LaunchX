{
  "cells": [
    {
      "cell_type": "markdown",
      "metadata": {},
      "source": [
        "# Ejercicio: Uso de funciones en Python"
      ]
    },
    {
      "cell_type": "markdown",
      "metadata": {},
      "source": [
        "### Ejercicio 1: Trabajar con argumentos en funciones\n",
        "\n",
        "Los argumentos requeridos en las funciones se utilizan cuando las funciones necesitan que esos argumentos funcionen correctamente. En este ejercicio, construirás un informe de combustible que requiere información de varias ubicaciones de combustible en todo el cohete.\n",
        "\n"
      ]
    },
    {
      "cell_type": "code",
      "execution_count": 6,
      "metadata": {},
      "outputs": [],
      "source": [
        "# Función para leer 3 tanques de combustible y muestre el promedio\n",
        "def Reporte(Tanque1, Tanque2, Tanque3):\n",
        "    Promedio = (Tanque1 + Tanque2 + Tanque3) / 3\n",
        "    return f\"\"\"Reporte:\n",
        "    Promedio De Combustible: {Promedio}%\n",
        "    Tanque 1: {Tanque1}%\n",
        "    Tanque 2: {Tanque2}%\n",
        "    Tanque 3: {Tanque3}% \n",
        "    \"\"\"\n",
        "\n",
        "\n"
      ]
    },
    {
      "cell_type": "markdown",
      "metadata": {},
      "source": [
        "Ahora que hemos definido la función de informes, vamos a comprobarlo. Para esta misión, los tanques no están llenos:"
      ]
    },
    {
      "cell_type": "code",
      "execution_count": 7,
      "metadata": {},
      "outputs": [
        {
          "name": "stdout",
          "output_type": "stream",
          "text": [
            "Reporte:\n",
            "    Promedio De Combustible: 98.33333333333333%\n",
            "    Tanque 1: 100%\n",
            "    Tanque 2: 100%\n",
            "    Tanque 3: 95% \n",
            "    \n"
          ]
        }
      ],
      "source": [
        "\n",
        "# Llamamos a la función que genera el reporte print(funcion(tanque1, tanque2, tanque3))\n",
        "print(Reporte(100, 100, 95))"
      ]
    },
    {
      "cell_type": "markdown",
      "metadata": {},
      "source": [
        "En lugar de simplemente crear el informe, la función también está calculando el promedio. Mejora la legibilidad extrayendo el cálculo promedio de la función en una nueva función para que el promedio se pueda hacer de forma independiente:"
      ]
    },
    {
      "cell_type": "code",
      "execution_count": 22,
      "metadata": {},
      "outputs": [
        {
          "data": {
            "text/plain": [
              "82.0"
            ]
          },
          "execution_count": 22,
          "metadata": {},
          "output_type": "execute_result"
        }
      ],
      "source": [
        "# Función promedio \n",
        "def Promedio(Valores):\n",
        "    total = sum(Valores)\n",
        "    number_of_items = len(Valores)\n",
        "    return total / number_of_items\n"
      ]
    },
    {
      "cell_type": "markdown",
      "metadata": {},
      "source": [
        "Ahora actualiza la función de informes para llamando a la nueva función del promedio:\n"
      ]
    },
    {
      "cell_type": "code",
      "execution_count": 26,
      "metadata": {},
      "outputs": [
        {
          "name": "stdout",
          "output_type": "stream",
          "text": [
            "Reporte:\n",
            "    Promedio de Combustible: 96.66666666666667%\n",
            "    Tanque 1: 100%\n",
            "    Tanque 2: 100%\n",
            "    Tanque 3: 90% \n",
            "    \n"
          ]
        }
      ],
      "source": [
        "# Actualiza la función\n",
        "def Reporte(Tanque1, Tanque2, Tanque3):\n",
        "    return f\"\"\"Reporte:\n",
        "    Promedio de Combustible: {Promedio([Tanque1, Tanque2, Tanque3])}%\n",
        "    Tanque 1: {Tanque1}%\n",
        "    Tanque 2: {Tanque2}%\n",
        "    Tanque 3: {Tanque3}% \n",
        "    \"\"\"\n",
        "\n",
        "# Call the updated function again with different values\n",
        "print(Reporte(100, 100, 90))"
      ]
    },
    {
      "cell_type": "markdown",
      "metadata": {},
      "source": [
        "> Recuerda: Lo importante es intentarlo, puedes auxiliarte de internet, libros, etc. El objetivo de una kata es la comprobación de la comprensión de la lección y su aplicación inmediata a la resolución de problemas. Go for it!"
      ]
    },
    {
      "cell_type": "markdown",
      "metadata": {},
      "source": [
        "## Ejercicio 2: Trabajo con argumentos de palabra clave"
      ]
    },
    {
      "cell_type": "markdown",
      "metadata": {},
      "source": [
        "### Ejercicio : Trabajar con argumentos de palabras clave en funciones\n",
        "En este ejercicio, construirás un informe de cohete que requiere varias piezas de información, como el tiempo hasta el destino, el combustible a la izquierda y el nombre del destino. Comienza por crear una función que creará un informe preciso de la misión:"
      ]
    },
    {
      "cell_type": "code",
      "execution_count": 29,
      "metadata": {},
      "outputs": [
        {
          "name": "stdout",
          "output_type": "stream",
          "text": [
            "\n",
            "    Lugar xDestino: Luna\n",
            "    Tiempo estimado de vuelo: 65 Minutos\n",
            "    Total de Combustible: 3000 Litros\n",
            "    \n"
          ]
        }
      ],
      "source": [
        "# Función con un informe preciso de la misión. Considera hora de prelanzamiento, tiempo de vuelo, destino, tanque externo y tanque interno\n",
        "\n",
        "def Reporte_De_Mision(hora_Prelanzamiento, tiempo_vuelo, Destino, tanque_externo, tanque_interno):\n",
        "    return f\"\"\"\n",
        "    Lugar Destino: {Destino}\n",
        "    Tiempo estimado de vuelo: {hora_Prelanzamiento + tiempo_vuelo} Minutos\n",
        "    Total de Combustible: {tanque_externo + tanque_interno} Litros\n",
        "    \"\"\"\n",
        "\n",
        "print(Reporte_De_Mision(14, 51, \"Luna\", 1000, 2000))"
      ]
    },
    {
      "cell_type": "markdown",
      "metadata": {},
      "source": [
        "La función es problemática porque no se puede adaptar para minutos adicionales o tanques adicionales de combustible. Hazlo más flexible permitiendo cualquier número de pasos basados en el tiempo y cualquier número de tanques. En lugar de usar `*args` y `**kwargs`, aprovecha el hecho de que puedes usar cualquier nombre que desees. Asegurate que la función sea más legible mediante el uso de nombres de variables que están asociados con las entradas, como `*minutes` y `**fuel_reservoirs`:"
      ]
    },
    {
      "cell_type": "code",
      "execution_count": 30,
      "metadata": {},
      "outputs": [
        {
          "name": "stdout",
          "output_type": "stream",
          "text": [
            "\n",
            "    Lugar Destino: Tierra\n",
            "    Tiempo estimado de vuelo: 76 Minutos\n",
            "    Total de Combustible: 500000\n",
            "    \n"
          ]
        }
      ],
      "source": [
        "# Escribe tu nueva función de reporte considerando lo anterior\n",
        "def mission_report(Destino, *minutes, **fuel_reservoirs):\n",
        "    return f\"\"\"\n",
        "    Lugar Destino: {Destino}\n",
        "    Tiempo estimado de vuelo: {sum(minutes)} Minutos\n",
        "    Total de Combustible: {sum(fuel_reservoirs.values())}\n",
        "    \"\"\"\n",
        "\n",
        "print(mission_report(\"Tierra\", 10, 15, 51, main=300000, external=200000))\n"
      ]
    },
    {
      "cell_type": "markdown",
      "metadata": {},
      "source": [
        "Debido a que el combustible que queda en los tanques es específico de cada tanque, actualiza la función para usar el nombre de cada tanque en el informe:"
      ]
    },
    {
      "cell_type": "code",
      "execution_count": 35,
      "metadata": {},
      "outputs": [
        {
          "name": "stdout",
          "output_type": "stream",
          "text": [
            "\n",
            "    Lugar Destino: Marte\n",
            "    Tiempo estimado de vuelo: 74 Minutos\n",
            "    Total de Combustible: 500000\n",
            "    main tank --> 300000 Litros\n",
            "external tank --> 200000 Litros\n",
            "\n"
          ]
        }
      ],
      "source": [
        "# Escribe tu nueva función\n",
        "def mission_report(Destino, *minutes, **fuel_reservoirs):\n",
        "    Reporte_Tanques = f\"\"\"\n",
        "    Lugar Destino: {Destino}\n",
        "    Tiempo estimado de vuelo: {sum(minutes)} Minutos\n",
        "    Total de Combustible: {sum(fuel_reservoirs.values())}\n",
        "    \"\"\"\n",
        "    for Tanque, Litros in fuel_reservoirs.items():\n",
        "        Reporte_Tanques += f\"{Tanque} tank --> {Litros} Litros\\n\"\n",
        "    return Reporte_Tanques\n",
        "\n",
        "print(mission_report(\"Marte\", 8, 11, 55, main=300000, external=200000))\n"
      ]
    }
  ],
  "metadata": {
    "interpreter": {
      "hash": "205095b8b86ea82a021a8fc2ffba2b3bc9f8d0be25999901963b225939f75778"
    },
    "kernelspec": {
      "display_name": "Python 3.8.10 64-bit ('tmp': conda)",
      "name": "python3"
    },
    "language_info": {
      "codemirror_mode": {
        "name": "ipython",
        "version": 3
      },
      "file_extension": ".py",
      "mimetype": "text/x-python",
      "name": "python",
      "nbconvert_exporter": "python",
      "pygments_lexer": "ipython3",
      "version": "3.10.2"
    },
    "nteract": {
      "version": "nteract-front-end@1.0.0"
    },
    "orig_nbformat": 4
  },
  "nbformat": 4,
  "nbformat_minor": 2
}
